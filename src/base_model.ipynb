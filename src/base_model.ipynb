{
 "cells": [
  {
   "cell_type": "code",
   "execution_count": 1,
   "metadata": {},
   "outputs": [],
   "source": [
    "import math\n",
    "\n",
    "import numpy\n",
    "import pandas\n",
    "\n",
    "import ipywidgets as widgets\n",
    "from IPython.display import display, clear_output\n",
    "\n",
    "import gensim\n",
    "from gensim.corpora import Dictionary\n",
    "from gensim.models import TfidfModel\n",
    "from gensim.models.doc2vec import Doc2Vec, TaggedDocument\n",
    "\n",
    "import pythainlp\n",
    "\n",
    "from sklearn.metrics.pairwise import cosine_similarity\n",
    "from sklearn.cluster import DBSCAN\n",
    "from sklearn.cluster import KMeans\n",
    "\n",
    "from data_tokenizer import load_corpus\n",
    "\n",
    "from model.upgrade_sdc import UpgradeSDC\n",
    "from model.sdc import SDC"
   ]
  },
  {
   "cell_type": "markdown",
   "metadata": {},
   "source": [
    "### Load Data"
   ]
  },
  {
   "cell_type": "code",
   "execution_count": 2,
   "metadata": {},
   "outputs": [
    {
     "name": "stdout",
     "output_type": "stream",
     "text": [
      "Total documents 268\n",
      "1 clusters\n"
     ]
    }
   ],
   "source": [
    "file_name = 'ผู้บริโภค - TescoLotus'\n",
    "\n",
    "corpus, labels = load_corpus('../data/' + file_name + '.txt')\n",
    "\n",
    "len_corpus = len(corpus)\n",
    "print('Total documents', len_corpus)\n",
    "\n",
    "clusters = list(set(labels))\n",
    "print(len(clusters), 'clusters')\n",
    "\n",
    "f = open('../data/tokenized/tokenized_' + file_name + '.txt')\n",
    "tokenized_corpus = eval(f.read())\n",
    "f.close()"
   ]
  },
  {
   "cell_type": "markdown",
   "metadata": {},
   "source": [
    "### Preprocess Corpus"
   ]
  },
  {
   "cell_type": "markdown",
   "metadata": {},
   "source": [
    "#### Remove Words"
   ]
  },
  {
   "cell_type": "code",
   "execution_count": 3,
   "metadata": {},
   "outputs": [
    {
     "name": "stdout",
     "output_type": "stream",
     "text": [
      "origin: 1449 words\n",
      "filter frequent words: 605 words\n",
      "filter letter words: 604 words\n",
      "filter stop words: 402 words\n"
     ]
    }
   ],
   "source": [
    "dictionary = Dictionary(tokenized_corpus)\n",
    "print('origin:', len(dictionary), 'words')\n",
    "\n",
    "dictionary.filter_extremes(no_below=2, no_above=0.7, keep_n=len(dictionary))\n",
    "print('filter frequent words:', len(dictionary), 'words')\n",
    "\n",
    "letter_words = [id for id in range(len(dictionary)) if len(dictionary[id]) <= 1] \n",
    "dictionary.filter_tokens(bad_ids=letter_words)\n",
    "print('filter letter words:', len(dictionary), 'words')\n",
    "\n",
    "stopwords = pythainlp.corpus.stopwords.words('thai')\n",
    "stopwords.extend(['นี้'])\n",
    "dictionary.add_documents([stopwords])\n",
    "stopwords = [dictionary.token2id[word] for word in stopwords]\n",
    "dictionary.filter_tokens(bad_ids=stopwords)\n",
    "print('filter stop words:', len(dictionary), 'words')"
   ]
  },
  {
   "cell_type": "code",
   "execution_count": 4,
   "metadata": {
    "scrolled": true
   },
   "outputs": [],
   "source": [
    "idx_corpus = [dictionary.doc2idx(doc) for doc in tokenized_corpus]\n",
    "\n",
    "temp_corpus = []\n",
    "for doc in idx_corpus:\n",
    "    temp_corpus.append([dictionary[id] for id in doc if id >= 0])\n",
    "idx_corpus = temp_corpus"
   ]
  },
  {
   "cell_type": "markdown",
   "metadata": {},
   "source": [
    "#### Dimension Reduction"
   ]
  },
  {
   "cell_type": "code",
   "execution_count": 5,
   "metadata": {},
   "outputs": [],
   "source": [
    "average_doc_size = 0\n",
    "for doc in idx_corpus:\n",
    "    average_doc_size += len(doc)\n",
    "average_doc_size /= len(idx_corpus)\n",
    "average_doc_size = math.ceil(average_doc_size)\n",
    "\n",
    "df = dictionary.dfs\n",
    "filtered_corpus = []\n",
    "for doc in idx_corpus:\n",
    "    new_doc = [(word, df[dictionary.token2id[word]]) for word in doc]\n",
    "    new_doc.sort(reverse=True, key=lambda x: x[1])\n",
    "    new_doc = new_doc[:average_doc_size]\n",
    "    filtered_corpus.append([word for word, df in new_doc])"
   ]
  },
  {
   "cell_type": "markdown",
   "metadata": {},
   "source": [
    "#### Doc2Vec"
   ]
  },
  {
   "cell_type": "code",
   "execution_count": 6,
   "metadata": {},
   "outputs": [],
   "source": [
    "tagged_corpus = [TaggedDocument(doc, [i]) for i, doc in enumerate(idx_corpus)]\n",
    "model = Doc2Vec(tagged_corpus, vector_size=average_doc_size, window=4, min_count=2, epochs=100)\n",
    "model.delete_temporary_training_data(keep_doctags_vectors=True, keep_inference=True)\n",
    "\n",
    "paragraph_vectors = [model.infer_vector(doc) for doc in idx_corpus]\n",
    "paragraph_vectors = pandas.DataFrame(paragraph_vectors, dtype=float)"
   ]
  },
  {
   "cell_type": "markdown",
   "metadata": {},
   "source": [
    "### Clustering"
   ]
  },
  {
   "cell_type": "code",
   "execution_count": 7,
   "metadata": {},
   "outputs": [],
   "source": [
    "def get_onehot(corpus, weight):\n",
    "    dictionary = Dictionary(corpus)\n",
    "#     dictionary.filter_extremes(no_below=2, no_above=1, keep_n=len(dictionary))\n",
    "\n",
    "    bow_corpus = [dictionary.doc2bow(doc) for doc in corpus]\n",
    "    if weight == 'normal':\n",
    "        weight_corpus = bow_corpus\n",
    "    elif weight == 'tfidf':\n",
    "        tfidf = TfidfModel(bow_corpus, smartirs='ltc')\n",
    "        weight_corpus = [tfidf[doc] for doc in bow_corpus]\n",
    "\n",
    "    unique_words = [dictionary[id] for id in range(len(dictionary))]\n",
    "    array = numpy.zeros((len(corpus), len(unique_words)), dtype=float)\n",
    "    for i, doc in enumerate(weight_corpus):\n",
    "        for id, score in doc:\n",
    "            array[i, id] = score\n",
    "\n",
    "        if weight == 'normal' and len(doc) != 0:\n",
    "#             array[i] = numpy.divide(array[i], len(idx_corpus[i]))\n",
    "            array[i] = numpy.divide(array[i], len(doc))\n",
    "    \n",
    "    return pandas.DataFrame(array, columns=unique_words, dtype=float)"
   ]
  },
  {
   "cell_type": "code",
   "execution_count": 8,
   "metadata": {},
   "outputs": [],
   "source": [
    "def generate_result(predicted_labels, marks):\n",
    "    result = pandas.DataFrame()\n",
    "    result['comment'] = corpus\n",
    "    result['tokenized_comment'] = filtered_corpus\n",
    "    result['label'] = labels\n",
    "    result['predicted_label'] = predicted_labels\n",
    "    if marks:\n",
    "        result['marks'] = marks\n",
    "    else:\n",
    "        result['marks'] = -1\n",
    "    return result"
   ]
  },
  {
   "cell_type": "code",
   "execution_count": 9,
   "metadata": {},
   "outputs": [],
   "source": [
    "def eval_cluster(onehot_corpus, result):\n",
    "    label_count = numpy.unique(result['predicted_label'])\n",
    "    num_cluster = label_count[-1] + 1\n",
    "\n",
    "    clusters = [[] for i in range(num_cluster)]\n",
    "    corpus_centroid = []\n",
    "    for i, label in result['predicted_label'].iteritems():\n",
    "        clusters[label].append(numpy.array(onehot_corpus.iloc[i]))\n",
    "        corpus_centroid.append(numpy.array(onehot_corpus.iloc[i]))\n",
    "    corpus_centroid = numpy.mean(corpus_centroid, axis=0).reshape(1, -1)   \n",
    "\n",
    "#     print('\\tIntra cluster sim\\tInter cluster sim\\tIntra / Inter')\n",
    "    compactness = 0\n",
    "    centroids = []\n",
    "    for i in range(num_cluster):\n",
    "        size = len(clusters[i])\n",
    "        if size != 0:\n",
    "            centroid = numpy.mean(clusters[i], axis=0)\n",
    "            centroids.append(centroid)\n",
    "            centroid = centroid.reshape(1, -1)\n",
    "            similarities = cosine_similarity(centroid, clusters[i])\n",
    "            compactness += numpy.sum(similarities)\n",
    "\n",
    "#             intra = numpy.sum(similarities) / size\n",
    "#             inter = cosine_similarity(centroid, corpus_centroid)[0][0]\n",
    "#             print(i, end='\\t')\n",
    "#             print(intra, end='\\t')\n",
    "#             print(inter, end='\\t')\n",
    "#             print(intra / inter)\n",
    "    return compactness, centroids"
   ]
  },
  {
   "cell_type": "code",
   "execution_count": 10,
   "metadata": {},
   "outputs": [
    {
     "name": "stdout",
     "output_type": "stream",
     "text": [
      "133.03737413062925\n",
      "(array([ 0,  1,  2,  3,  4,  5,  6,  7,  8,  9, 10, 11, 12, 13, 14]), array([64, 24, 17, 13, 30,  8, 11, 24, 11, 12, 10, 15,  8, 11, 10])) \n",
      "\n"
     ]
    }
   ],
   "source": [
    "min_samples = 7\n",
    "eps = 0.32\n",
    "epoch = 15\n",
    "\n",
    "onehot_corpus = get_onehot(idx_corpus, 'normal')\n",
    "# onehot_corpus = get_onehot(filtered_corpus, 'tfidf')\n",
    "\n",
    "max_compactness = 0\n",
    "for i in range(epoch):\n",
    "    model = UpgradeSDC()\n",
    "    _tpredicted_labels, _tmarks = model.predict(onehot_corpus, min_samples, eps)\n",
    "    \n",
    "#     _tmarks = None\n",
    "\n",
    "#     model = SDC()\n",
    "#     _tpredicted_labels = model.predict(onehot_corpus, min_samples, eps)\n",
    "    \n",
    "#     model = DBSCAN(metric='cosine', eps=eps, min_samples=min_samples).fit(onehot_corpus)\n",
    "#     _tpredicted_labels = model.labels_ + 1\n",
    "\n",
    "#     model = KMeans(n_clusters=7).fit(onehot_corpus)\n",
    "#     _tpredicted_labels = model.labels_\n",
    "    \n",
    "    _tresult = generate_result(_tpredicted_labels, _tmarks)\n",
    "    compactness, _tcentroids = eval_cluster(onehot_corpus, _tresult)\n",
    "    \n",
    "    if compactness > max_compactness:\n",
    "        max_compactness = compactness\n",
    "        predicted_labels = _tpredicted_labels\n",
    "        result = _tresult\n",
    "        centroids = _tcentroids\n",
    "        \n",
    "print(max_compactness)\n",
    "label_count = numpy.unique(result['predicted_label'], return_counts=True)\n",
    "num_cluster = label_count[0][-1] + 1\n",
    "print(label_count, '\\n')"
   ]
  },
  {
   "cell_type": "code",
   "execution_count": 11,
   "metadata": {},
   "outputs": [
    {
     "name": "stdout",
     "output_type": "stream",
     "text": [
      "[0, 1, 2, 3, 4, 5, 6, 7, 8, 9, 10, 11, 12, 13, 14]\n",
      "13 11 0.4098436643560912\n",
      "13 7 0.32902541972458327\n",
      "13 6 0.35333313083777973\n",
      "13 2 0.4429618200631101\n",
      "11 7 0.40056213740733193\n",
      "11 2 0.45545348801275565\n",
      "11 1 0.41367126411361455\n",
      "10 5 0.4730826646223039\n",
      "7 2 0.4771667414687708\n",
      "7 1 0.5301231904595685\n",
      "2 1 0.719262046092703\n",
      "[0, 1, 1, 3, 4, 5, 1, 1, 8, 9, 5, 1, 12, 1, 14]\n"
     ]
    }
   ],
   "source": [
    "sims = cosine_similarity(centroids)\n",
    "new_labels = [i for i in range(num_cluster)]\n",
    "print(new_labels)\n",
    "for i, row in reversed(list(enumerate(sims))):\n",
    "    for j, value in reversed(list(enumerate(row[:i + 1]))):\n",
    "        if i != j and value >= eps - eps / 20:\n",
    "            print(i, j, value)\n",
    "            base = min(new_labels[i], new_labels[j])\n",
    "            new_labels[j] = base\n",
    "            new_labels = [base if label == new_labels[i] else label for label in new_labels]\n",
    "print(new_labels)\n",
    "\n",
    "grouped_labels = numpy.zeros(len_corpus)\n",
    "for i, label in enumerate(predicted_labels):\n",
    "    grouped_labels[i] = new_labels[label]\n",
    "new_result = generate_result(grouped_labels, None)"
   ]
  },
  {
   "cell_type": "markdown",
   "metadata": {},
   "source": [
    "### Result"
   ]
  },
  {
   "cell_type": "code",
   "execution_count": 12,
   "metadata": {},
   "outputs": [],
   "source": [
    "class Widget:\n",
    "    def __init__(self, result, column_name):\n",
    "        self.result = result\n",
    "        self.column_name = column_name\n",
    "        \n",
    "        label_count = numpy.unique(result['predicted_label'])\n",
    "        self.widget = widgets.ToggleButtons(\n",
    "            options=[int(num) for num in label_count],\n",
    "            disabled=False,\n",
    "            button_style='',\n",
    "        )\n",
    "        \n",
    "        self.widget.observe(self.on_click, names='index')\n",
    "        self.on_click({'new' : 0})\n",
    "        \n",
    "    def on_click(self, change):\n",
    "        clear_output()\n",
    "        display(self.widget)\n",
    "        new = self.widget.options[change['new']]\n",
    "        for index, value in self.result[self.result['predicted_label'] == new].iterrows():\n",
    "            if value['marks'] == 0:\n",
    "                print(\"@\", end=\"\")\n",
    "            elif value['marks'] == 1:\n",
    "                print(\"*\", end=\"\")\n",
    "            print(index, value[self.column_name])"
   ]
  },
  {
   "cell_type": "code",
   "execution_count": 13,
   "metadata": {},
   "outputs": [],
   "source": [
    "# result.to_csv('../data/results/' + file_name + '_2.csv')\n",
    "\n",
    "# result = pandas.read_csv('../data/results/' + file_name + '_2.csv')\n",
    "\n",
    "# count = 0\n",
    "# for index, value in result.iterrows():\n",
    "#     if value['marks'] == -1:\n",
    "#         count += 1\n",
    "# print(count)"
   ]
  },
  {
   "cell_type": "code",
   "execution_count": 14,
   "metadata": {
    "scrolled": true
   },
   "outputs": [
    {
     "data": {
      "application/vnd.jupyter.widget-view+json": {
       "model_id": "1adfe202de6f4439939fb548ed79c194",
       "version_major": 2,
       "version_minor": 0
      },
      "text/plain": [
       "ToggleButtons(options=(0, 1, 3, 4, 5, 8, 9, 12, 14), value=0)"
      ]
     },
     "metadata": {},
     "output_type": "display_data"
    },
    {
     "name": "stdout",
     "output_type": "stream",
     "text": [
      "2 เลิกเปิดเพลง ข้าวแสนดี กับอีเครื่องกรองน้ำเพียว ได้แล้ว!!!!\n",
      "8 อย่าบังคับน้องเข้าประชุมเชียร์ อย่าลงโทษโดยเหตุผลงี่เง่าๆ เกิดก่อนไม่กี่ปีเอง\n",
      "14 เลือกผัก เลือกแล้ว เลือกอีก พอมาคิดเงินพนักงานยัดผักใส่ถุงจนผักหัก โอ้ยใจ ใจสลาย\n",
      "26 ค.ว.ย ค่ะ พนักงานแม่งเกือบทุกคนเลย ไม่มีความคิด วิเคราะห์ แยกแยะไม่ได้ว่าเวลาลูกค้าซื้อผัก ซื้อหมูบด น้ำยาล้างจาน น้ำปลา หรืออะไรก็แล้วแต่ ถุงมึงมีใบใหญ่สุดแค่ไหนมึงเอามาใส่แม่งรวมกันหมดทุกอย่าง ผักกูเลือกดีๆเอาไม่ช้ำ อีดอกเอาไว้ล่างสุด เอาแพ็คหมูบดทับอีกเหี้ย ยัง‼️ยังไม่พอมึงเอาน้ำยาล้างจานน้ำปลาว่าทับแพ็คหมู สรุปกูถึงบ้าน ผักเละ แพ็คหมูแตก ติดอยู่กับถุงน้ำยาล้างจาน อีสัส เอาไว้ให้โครตเหง้ามึงกินมั้ยได้ของแบบนี้ แยกไม่เป็น สมองคิดไม่ออกว่ามันต้องแยก🖕🏻🖕🏻🖕🏻\n",
      "29 โลตลาด พนง.ปากตลาด นินทาลค.เผาขน ตะโกนโหวกเหวกข้ามหัวลค. วันหวยออกสนั่นเป็นพิเศษ เห็นพฤติกรรมแล้วแย่ ปรับปรุงภาพลักษณ์เถอะ\n",
      "30 ไม่อยากจะเม้าความสาระพัดของโลตัส ในฐานะที่เคยเป็นพนง.มาก่อน อิอิ\n",
      "32 ไม่ต้องตัดแต้มเป็นคูปองเงินได้ไหมอ่ะ ไม่เคยได้ใช้เพราะ คูปองมันหายก่อน เอาแบบ พอไปซื้อแล้วแต้มครบค่อยถามว่าตัดแต้มไหมคะ อะไรแบบนี้จะดีกว่า  แล้วยังมีโบชัวมาบอกอีกนะ แต่ม เท่านี้แล้วเป็นตั๋วหนังได้ แล้วเล่นตัดไปแล้วมันเหลือแต้ม150จะทำไรได้\n",
      "35 Lotus สาขายโสธร-เปิดใหม่ พนง.แอบโกง Give Card ลูกค้า(กุเอง) จ่ายหลายใบแล้วทำเนียนว่ามีใบนึงชำรุดใช้ไม่ได้แล้วพอขอคืนก็สลับใบที่รูดใช้แล้วมาแทน แจ้งผู้จัดการขอดูกล้องวงจรปิดไม่ยอมให้ดูเลยต้องขู่ว่าจะแจ้งความถึงยอมคืนให้ แต่ไม่มีคำขอโทษใดๆ จาก พนง.-ติด…See more\n",
      "37 ปรับปรุงเรื่องของพรีเมี่ยม จะทำมาทำห่าไร กูอุตส่าเก็บแสตมป์ เอาไปแลก บอกให้ลงชื่อไว้ ของมาจะโทแจ้ง 3 เดือนผ่านไป ไม่มีการติดต่อใดๆ กูไปถามสาขาที่จอง บอกของยังไม่มา อีกเดือนนึงไปถาม ของก็ยังไม่มา นี่กูรอมาจะปีนึงละ สรุปยังไม่ได้ของ ห่วยแตก ทำของพรีเมี่ยมออกมามันต้องมีกำหนดการรับของในการจองสิ นี่แม่งให้เศษกระดาษมา ห่วยแตกสุดๆ\n",
      "43 สาขาพัทลุง เหม็นคาวมากกกกกกกกก แถมแผนกของกินของสดแม่งไปไหนหมด มีแต่เสื้อผ้าละ\n",
      "45 มารยาท คำพูดคำจา ไม่ต้องเพราะหรอกคะแค่ไม่ตะคอก ไม่ชักสีหน้าใสเวลาถามสินค้าอยู่ตรงไหนเวลาไม่เจอ. ...ตอนนี้ก็เลือกที่จะไม่ไปใช้บริการแล้ว มีcentral มาเปิดใกล้บ้าน สบายใจ\n",
      "56 ของมึงไม่ต้องถูกมากก็ได้ เน้นคุณภาพบ้าง ไส้กรอกเน่า แต่ยังไม่หมดอายุงี้อ่ะ (สาขาฟอร์จูน) ขนมปังขึ้นราแล้วยังวางขายอีก (สาขาลาดพร้าว) กีวี่หนอนเข้า กะหล่ำปลีเน่าใน ผักบุ้งเน่าแทรกในมัด (สาขาอ่อนนุช)\n",
      "60 ของป้ายเหลืองพวกผัก เน่าจนไม่รู้จะเน่ายังไง คือทิ้งๆไปก็ได้มั่ง\n",
      "69 หมูสับในโลตัสเอ็กเพรสบางไปค่ะ บดซะแห้งเกิน ผักช้ำๆ บางอันก็เสียแล้วจริงๆ ทิ้งเถอะค่ะ อย่าป้ายเหลืองเลย\n",
      "70 โลตัสเอ็กเพลส ไม่สามารถจ่ายบิลค่าไฟได้พร้อมกันได้จ้า ต้องแยกจ่าย\n",
      "75 เวลาผมซื้อเนื้อสัตว์ช่วยเอาที่คีบหรือช้อนหรืออะไรก็ได้มาวางให้ทีอย่าให้กุต้องใช้มือเปล่าๆจับอีกอย่างจะเก็บช้อนกะที่คีบเร็วไปไหนเพิ่งจะ6โมงเย็นเห็นเอาไปล้างแล้ว\n",
      "79 คูปองกระดาษ ห้าบาทสิบบาท เมมเบอร์ไม่ได้ช่วยอะไร ว่างๆ รบกวนไปดูงานจากท้อปส์บ้างนะ การเป็นเมมเบอร์ คือเป็นเมมเบอร์จริงๆ โลตัสนี่แบบ 😒 คูปองกระดาษส่งทางไปรษณีย์ แล้วจะมีการ์ดไว้ทำอัลไล 😩😩😩😩 มีค่าแค่สแกนก่อนจ่ายตัง โอ้ววววว จ้อด 4.0\n",
      "83 เลิกก๊อปปี้สินค้าแบรนด์ แล้วทำคุณภาพห่วยๆ แม่งเล่นเลย์ซะเหมือนเลย สาดดด\n",
      "88 ฝากถึง สาขาแพร่นะคะตอนเช้าๆเลิกมาทอดโดนัทด้านนอกซะทีเถอะค่ะ กลิ่นเหม็นน้ำมันทอดติดผมเผ้าเสื้อผ้า\n",
      "89 กำลังอยู่โลตัส เลยแค่เดินเข้าไปได้กลิ่นของสดเหม็นคลุ้งไปทั่ว\n",
      "95 โลตัส รัตนาธิเบศร์ แอร์เหม็นมาก เหม็นสาบหนูสุดๆ ตรงโซนอาหารแห้ง บะหมี่กึ่งสำเร็จรูป เดินผ่านก็รู้เลยมีหนู ตรงโซนข้าวสารอีก\n",
      "98 เวลาจัดโปรแลกของโลตัส เอ็กเพรส ถ้าของหมดให้จอง ให้เขียนชื่อใส่เบอร์โทร แต่เวลาของมาไม่เคยโทรมาบอกเลย ให้ใส่ทำมะเขือไรอะคะ ไม่เข้าใจอะ แล้วเคยโทรไปคอลเซนเตอร์ มีระบบให้ฝากเบอร์ไว้ ก็โทรกลับมาจริงๆนะ ผ่านไปเดือนกว่าถึงโทรกลับมา ไม่รอครบปีก่อนเลยล่ะ แหม่\n",
      "99 โสตัสเอ็กเพรส สาขาตลาดหนองจอก ระยอง ตู้แช่เย็นฝาตู้ปิดไม่สนิททุกตู้\n",
      "102 Express. ไปใช้บริการหลายที่  ร้านสกปรก สินค้ามีฝุ่นเกาะ พื้นเหนียว บางทีตู้เย็นของหมด และสกปรก พนง คิดเงินช้าาาามากกกกกก ค่ะ\n",
      "106 ไม่รุ้ทำไมเป้นแบบนี้...แย่เรื่องมารยาทจริงๆ...ไม่ได้เท่าขี้เล็บ7เลย\n",
      "108 ของเซลคือเซลเเต่หมดอายุมาหลายเดือนเเล้วยังเซลได้ด้วยหรอ???(ของกินไงบางที)\n",
      "116 วันใหนมาตั้งใจมาชื้อหมู หมูหมดเหลือไก่  วันใหนชื้อไก่ไก่หมดได้หมู  ตั้งใจอย่างได้อีกอย่าง\n",
      "126 วางของเกะกะมาก เป็นแทบทุกสาขาที่เคยเข้าเลย ไม่มีมาตรการจัดของกันเลยหรอ #เอ็กซ์เพรส\n",
      "127 ถ้ามึงไม่อยากไหว้ ไม่ต้องยกมือไหว้ก้อได้ กูรู้มึงโดนบังคับ ให้ไหว้คนที่ไม่ใช่พ่อใช่แม่ เยสเข้\n",
      "128 บัตรสมาชิก”  วัน การ์ด “  สะสมแต้ม  แต่ไม่สะดวกเวลาจะใช้งานใช้แต้มสะสม  เพราะมีเงื่อนไขแยกยิบย่อย  ต้องใช้กับสินค้าตัวนั้นตัวนี้  ใช้สำหรับสาขาเล็ก-ใหญ่  เขี้ยวเกิน\n",
      "132 ในบิลไม่ได้บอกว่าส่วนลดเป็นของสินค้าชิ้นไหน อยากให้บอกหน่อยว่าลดกี่บาทนี้มาจากสินค้าชื่ออะไร\n",
      "135 เอ็กเพรสนี้แลกของแล้วไม่เคยจะโทรบอกเลยหรืออะไรเลยต้องได้ทวง. ชอบไม่ให้แสตมป์. เป็นไรมากไหมนี้\n",
      "140 เคือง...สะสมสแตมป์แลกร่มผ่านมา3ปีจนสาขาย่อยปิดไปแล้วข้ายังไม่ได้ร่มเลย/หลอกลวงถามทีไรกำลังผลิตๆที่ดาวดวงใหนรึ?\n",
      "144 เครื่องที่ให้แสกนของเองน่ะ อยากให้ปรับตำแหน่งให้มันแสกนจากมือถือได้ด้วยค่ะ บัตรหายไปแล้วแสกนจากมือถือไม่ได้มันติด\n",
      "146 โลตัสเอ็กเพลสหน้าไม่รับเเขกไม่พอ นั่งกินข้าวล้อมวงเหมือนเเม่งอยู่บ้านอ่ะ\n",
      "161 เอ็กเพรสย่านตาขาว จ.ตรัง พนักงานชอบหาย เวลาจะชั่งผักก็ไม่อยู่ประจำจุดเลย  แคชเชียร์ เวลาคิดเงินชอบทำบูด\n",
      "163 โลตัสใหญ่ไม่ค่อยมีปัญึอะไร...แต่ไอ้ Express เนี่ย หึหึ\n",
      "165 ไปทีไรไม่เห็นมีดอกบัวขาย\n",
      "167 ตอนเลือกซื้อผัก เลือกเเล้ว เลือกอีก พอจ่ายตังค์ใส่ถุง ผักหักสะงั้น\n",
      "170 ความสะอาดของโลตัสเอ็กเพรส ค่ะ\n",
      "171 cashier ใช้เครื่องรูดไม่เป็น ไม่รู้จัก paywave\n",
      "173 คืออ่านจนเหนื่อยค่ะ\n",
      "179 ไม่จำเป็นไม่เข้าจริงๆ\n",
      "181 แมลงสาปให้มันน้อยๆหน่อย\n",
      "189 โลตัสเอ็กเพรสที่แฟลตคลองจั่น ... @&#,*#**@&&@&@&*#*@9929*#;-;,-;-😒😒😒😒😒😒\n",
      "191 ห้องน้ำควรมีสายฉีดตูดนะครับ  ทั้งห้างสีเขียวและห้างสีเหลือง\n",
      "192 เคยใช้บริการที่โลตัสอรัญประเทศ โดยรวมแล้วดีครับ\n",
      "203 กลิ่น\n",
      "207 ส่วนลดที่ให้มา ลดเลยได้ไหม ขี้เกียจเก็บ\n",
      "210 ซื้อไฃ่เจอไข่เน่าเอาไข่ดีๆมาขายบางนะ\n",
      "212 โลตัสพระราม1แมร่งร้อนฉิบหาย\n",
      "217 หนูวิ่งเป็นของสด\n",
      "221 โปรโมชั่นกำกวมมากกกก\n",
      "222 มาตรฐานพลังงานต่ำมากถ้าเทียบกับเซเว่นและบิ๊กซี\n",
      "223 อยากให้ห้องนํ้ามีนํ้า!!\n",
      "230 Express หลายๆสาขาดูไม่สะอาดเลยครับ\n",
      "232 แอร์ไม่เย็น\n",
      "235 สลิปจะยาวไปไหน ส่วนลดได้มาก็ไม่เคยใช้\n",
      "237 คูปองไม่ต้องส่งมาที่บ้าน อยากได้ในบิลเลย!!!\n",
      "248 แล้วแต่ที่จริงๆ\n",
      "254 แอร์ไม่เปิด\n",
      "255 ซื้อของห้าสิบ สลิปยาวเป็นศอก\n",
      "259 โลตัสเล็กตงตลาดหัวหินบางทรายพลังงานช้ามากมาย\n",
      "264 .\n"
     ]
    }
   ],
   "source": [
    "w1 = Widget(new_result, 'comment')"
   ]
  },
  {
   "cell_type": "code",
   "execution_count": 15,
   "metadata": {
    "scrolled": true
   },
   "outputs": [
    {
     "data": {
      "application/vnd.jupyter.widget-view+json": {
       "model_id": "fcfe940bae9a4a1ba08a1eadffd8f485",
       "version_major": 2,
       "version_minor": 0
      },
      "text/plain": [
       "ToggleButtons(options=(0, 1, 2, 3, 4, 5, 6, 7, 8, 9, 10, 11, 12, 13, 14), value=0)"
      ]
     },
     "metadata": {},
     "output_type": "display_data"
    },
    {
     "name": "stdout",
     "output_type": "stream",
     "text": [
      "2 เลิกเปิดเพลง ข้าวแสนดี กับอีเครื่องกรองน้ำเพียว ได้แล้ว!!!!\n",
      "8 อย่าบังคับน้องเข้าประชุมเชียร์ อย่าลงโทษโดยเหตุผลงี่เง่าๆ เกิดก่อนไม่กี่ปีเอง\n",
      "14 เลือกผัก เลือกแล้ว เลือกอีก พอมาคิดเงินพนักงานยัดผักใส่ถุงจนผักหัก โอ้ยใจ ใจสลาย\n",
      "26 ค.ว.ย ค่ะ พนักงานแม่งเกือบทุกคนเลย ไม่มีความคิด วิเคราะห์ แยกแยะไม่ได้ว่าเวลาลูกค้าซื้อผัก ซื้อหมูบด น้ำยาล้างจาน น้ำปลา หรืออะไรก็แล้วแต่ ถุงมึงมีใบใหญ่สุดแค่ไหนมึงเอามาใส่แม่งรวมกันหมดทุกอย่าง ผักกูเลือกดีๆเอาไม่ช้ำ อีดอกเอาไว้ล่างสุด เอาแพ็คหมูบดทับอีกเหี้ย ยัง‼️ยังไม่พอมึงเอาน้ำยาล้างจานน้ำปลาว่าทับแพ็คหมู สรุปกูถึงบ้าน ผักเละ แพ็คหมูแตก ติดอยู่กับถุงน้ำยาล้างจาน อีสัส เอาไว้ให้โครตเหง้ามึงกินมั้ยได้ของแบบนี้ แยกไม่เป็น สมองคิดไม่ออกว่ามันต้องแยก🖕🏻🖕🏻🖕🏻\n",
      "29 โลตลาด พนง.ปากตลาด นินทาลค.เผาขน ตะโกนโหวกเหวกข้ามหัวลค. วันหวยออกสนั่นเป็นพิเศษ เห็นพฤติกรรมแล้วแย่ ปรับปรุงภาพลักษณ์เถอะ\n",
      "30 ไม่อยากจะเม้าความสาระพัดของโลตัส ในฐานะที่เคยเป็นพนง.มาก่อน อิอิ\n",
      "32 ไม่ต้องตัดแต้มเป็นคูปองเงินได้ไหมอ่ะ ไม่เคยได้ใช้เพราะ คูปองมันหายก่อน เอาแบบ พอไปซื้อแล้วแต้มครบค่อยถามว่าตัดแต้มไหมคะ อะไรแบบนี้จะดีกว่า  แล้วยังมีโบชัวมาบอกอีกนะ แต่ม เท่านี้แล้วเป็นตั๋วหนังได้ แล้วเล่นตัดไปแล้วมันเหลือแต้ม150จะทำไรได้\n",
      "35 Lotus สาขายโสธร-เปิดใหม่ พนง.แอบโกง Give Card ลูกค้า(กุเอง) จ่ายหลายใบแล้วทำเนียนว่ามีใบนึงชำรุดใช้ไม่ได้แล้วพอขอคืนก็สลับใบที่รูดใช้แล้วมาแทน แจ้งผู้จัดการขอดูกล้องวงจรปิดไม่ยอมให้ดูเลยต้องขู่ว่าจะแจ้งความถึงยอมคืนให้ แต่ไม่มีคำขอโทษใดๆ จาก พนง.-ติด…See more\n",
      "37 ปรับปรุงเรื่องของพรีเมี่ยม จะทำมาทำห่าไร กูอุตส่าเก็บแสตมป์ เอาไปแลก บอกให้ลงชื่อไว้ ของมาจะโทแจ้ง 3 เดือนผ่านไป ไม่มีการติดต่อใดๆ กูไปถามสาขาที่จอง บอกของยังไม่มา อีกเดือนนึงไปถาม ของก็ยังไม่มา นี่กูรอมาจะปีนึงละ สรุปยังไม่ได้ของ ห่วยแตก ทำของพรีเมี่ยมออกมามันต้องมีกำหนดการรับของในการจองสิ นี่แม่งให้เศษกระดาษมา ห่วยแตกสุดๆ\n",
      "43 สาขาพัทลุง เหม็นคาวมากกกกกกกกก แถมแผนกของกินของสดแม่งไปไหนหมด มีแต่เสื้อผ้าละ\n",
      "45 มารยาท คำพูดคำจา ไม่ต้องเพราะหรอกคะแค่ไม่ตะคอก ไม่ชักสีหน้าใสเวลาถามสินค้าอยู่ตรงไหนเวลาไม่เจอ. ...ตอนนี้ก็เลือกที่จะไม่ไปใช้บริการแล้ว มีcentral มาเปิดใกล้บ้าน สบายใจ\n",
      "56 ของมึงไม่ต้องถูกมากก็ได้ เน้นคุณภาพบ้าง ไส้กรอกเน่า แต่ยังไม่หมดอายุงี้อ่ะ (สาขาฟอร์จูน) ขนมปังขึ้นราแล้วยังวางขายอีก (สาขาลาดพร้าว) กีวี่หนอนเข้า กะหล่ำปลีเน่าใน ผักบุ้งเน่าแทรกในมัด (สาขาอ่อนนุช)\n",
      "60 ของป้ายเหลืองพวกผัก เน่าจนไม่รู้จะเน่ายังไง คือทิ้งๆไปก็ได้มั่ง\n",
      "69 หมูสับในโลตัสเอ็กเพรสบางไปค่ะ บดซะแห้งเกิน ผักช้ำๆ บางอันก็เสียแล้วจริงๆ ทิ้งเถอะค่ะ อย่าป้ายเหลืองเลย\n",
      "70 โลตัสเอ็กเพลส ไม่สามารถจ่ายบิลค่าไฟได้พร้อมกันได้จ้า ต้องแยกจ่าย\n",
      "75 เวลาผมซื้อเนื้อสัตว์ช่วยเอาที่คีบหรือช้อนหรืออะไรก็ได้มาวางให้ทีอย่าให้กุต้องใช้มือเปล่าๆจับอีกอย่างจะเก็บช้อนกะที่คีบเร็วไปไหนเพิ่งจะ6โมงเย็นเห็นเอาไปล้างแล้ว\n",
      "79 คูปองกระดาษ ห้าบาทสิบบาท เมมเบอร์ไม่ได้ช่วยอะไร ว่างๆ รบกวนไปดูงานจากท้อปส์บ้างนะ การเป็นเมมเบอร์ คือเป็นเมมเบอร์จริงๆ โลตัสนี่แบบ 😒 คูปองกระดาษส่งทางไปรษณีย์ แล้วจะมีการ์ดไว้ทำอัลไล 😩😩😩😩 มีค่าแค่สแกนก่อนจ่ายตัง โอ้ววววว จ้อด 4.0\n",
      "83 เลิกก๊อปปี้สินค้าแบรนด์ แล้วทำคุณภาพห่วยๆ แม่งเล่นเลย์ซะเหมือนเลย สาดดด\n",
      "88 ฝากถึง สาขาแพร่นะคะตอนเช้าๆเลิกมาทอดโดนัทด้านนอกซะทีเถอะค่ะ กลิ่นเหม็นน้ำมันทอดติดผมเผ้าเสื้อผ้า\n",
      "89 กำลังอยู่โลตัส เลยแค่เดินเข้าไปได้กลิ่นของสดเหม็นคลุ้งไปทั่ว\n",
      "95 โลตัส รัตนาธิเบศร์ แอร์เหม็นมาก เหม็นสาบหนูสุดๆ ตรงโซนอาหารแห้ง บะหมี่กึ่งสำเร็จรูป เดินผ่านก็รู้เลยมีหนู ตรงโซนข้าวสารอีก\n",
      "98 เวลาจัดโปรแลกของโลตัส เอ็กเพรส ถ้าของหมดให้จอง ให้เขียนชื่อใส่เบอร์โทร แต่เวลาของมาไม่เคยโทรมาบอกเลย ให้ใส่ทำมะเขือไรอะคะ ไม่เข้าใจอะ แล้วเคยโทรไปคอลเซนเตอร์ มีระบบให้ฝากเบอร์ไว้ ก็โทรกลับมาจริงๆนะ ผ่านไปเดือนกว่าถึงโทรกลับมา ไม่รอครบปีก่อนเลยล่ะ แหม่\n",
      "99 โสตัสเอ็กเพรส สาขาตลาดหนองจอก ระยอง ตู้แช่เย็นฝาตู้ปิดไม่สนิททุกตู้\n",
      "102 Express. ไปใช้บริการหลายที่  ร้านสกปรก สินค้ามีฝุ่นเกาะ พื้นเหนียว บางทีตู้เย็นของหมด และสกปรก พนง คิดเงินช้าาาามากกกกกก ค่ะ\n",
      "106 ไม่รุ้ทำไมเป้นแบบนี้...แย่เรื่องมารยาทจริงๆ...ไม่ได้เท่าขี้เล็บ7เลย\n",
      "108 ของเซลคือเซลเเต่หมดอายุมาหลายเดือนเเล้วยังเซลได้ด้วยหรอ???(ของกินไงบางที)\n",
      "116 วันใหนมาตั้งใจมาชื้อหมู หมูหมดเหลือไก่  วันใหนชื้อไก่ไก่หมดได้หมู  ตั้งใจอย่างได้อีกอย่าง\n",
      "126 วางของเกะกะมาก เป็นแทบทุกสาขาที่เคยเข้าเลย ไม่มีมาตรการจัดของกันเลยหรอ #เอ็กซ์เพรส\n",
      "127 ถ้ามึงไม่อยากไหว้ ไม่ต้องยกมือไหว้ก้อได้ กูรู้มึงโดนบังคับ ให้ไหว้คนที่ไม่ใช่พ่อใช่แม่ เยสเข้\n",
      "128 บัตรสมาชิก”  วัน การ์ด “  สะสมแต้ม  แต่ไม่สะดวกเวลาจะใช้งานใช้แต้มสะสม  เพราะมีเงื่อนไขแยกยิบย่อย  ต้องใช้กับสินค้าตัวนั้นตัวนี้  ใช้สำหรับสาขาเล็ก-ใหญ่  เขี้ยวเกิน\n",
      "132 ในบิลไม่ได้บอกว่าส่วนลดเป็นของสินค้าชิ้นไหน อยากให้บอกหน่อยว่าลดกี่บาทนี้มาจากสินค้าชื่ออะไร\n",
      "135 เอ็กเพรสนี้แลกของแล้วไม่เคยจะโทรบอกเลยหรืออะไรเลยต้องได้ทวง. ชอบไม่ให้แสตมป์. เป็นไรมากไหมนี้\n",
      "140 เคือง...สะสมสแตมป์แลกร่มผ่านมา3ปีจนสาขาย่อยปิดไปแล้วข้ายังไม่ได้ร่มเลย/หลอกลวงถามทีไรกำลังผลิตๆที่ดาวดวงใหนรึ?\n",
      "144 เครื่องที่ให้แสกนของเองน่ะ อยากให้ปรับตำแหน่งให้มันแสกนจากมือถือได้ด้วยค่ะ บัตรหายไปแล้วแสกนจากมือถือไม่ได้มันติด\n",
      "146 โลตัสเอ็กเพลสหน้าไม่รับเเขกไม่พอ นั่งกินข้าวล้อมวงเหมือนเเม่งอยู่บ้านอ่ะ\n",
      "161 เอ็กเพรสย่านตาขาว จ.ตรัง พนักงานชอบหาย เวลาจะชั่งผักก็ไม่อยู่ประจำจุดเลย  แคชเชียร์ เวลาคิดเงินชอบทำบูด\n",
      "163 โลตัสใหญ่ไม่ค่อยมีปัญึอะไร...แต่ไอ้ Express เนี่ย หึหึ\n",
      "165 ไปทีไรไม่เห็นมีดอกบัวขาย\n",
      "167 ตอนเลือกซื้อผัก เลือกเเล้ว เลือกอีก พอจ่ายตังค์ใส่ถุง ผักหักสะงั้น\n",
      "170 ความสะอาดของโลตัสเอ็กเพรส ค่ะ\n",
      "171 cashier ใช้เครื่องรูดไม่เป็น ไม่รู้จัก paywave\n",
      "173 คืออ่านจนเหนื่อยค่ะ\n",
      "179 ไม่จำเป็นไม่เข้าจริงๆ\n",
      "181 แมลงสาปให้มันน้อยๆหน่อย\n",
      "189 โลตัสเอ็กเพรสที่แฟลตคลองจั่น ... @&#,*#**@&&@&@&*#*@9929*#;-;,-;-😒😒😒😒😒😒\n",
      "191 ห้องน้ำควรมีสายฉีดตูดนะครับ  ทั้งห้างสีเขียวและห้างสีเหลือง\n",
      "192 เคยใช้บริการที่โลตัสอรัญประเทศ โดยรวมแล้วดีครับ\n",
      "203 กลิ่น\n",
      "207 ส่วนลดที่ให้มา ลดเลยได้ไหม ขี้เกียจเก็บ\n",
      "210 ซื้อไฃ่เจอไข่เน่าเอาไข่ดีๆมาขายบางนะ\n",
      "212 โลตัสพระราม1แมร่งร้อนฉิบหาย\n",
      "217 หนูวิ่งเป็นของสด\n",
      "221 โปรโมชั่นกำกวมมากกกก\n",
      "222 มาตรฐานพลังงานต่ำมากถ้าเทียบกับเซเว่นและบิ๊กซี\n",
      "223 อยากให้ห้องนํ้ามีนํ้า!!\n",
      "230 Express หลายๆสาขาดูไม่สะอาดเลยครับ\n",
      "232 แอร์ไม่เย็น\n",
      "235 สลิปจะยาวไปไหน ส่วนลดได้มาก็ไม่เคยใช้\n",
      "237 คูปองไม่ต้องส่งมาที่บ้าน อยากได้ในบิลเลย!!!\n",
      "248 แล้วแต่ที่จริงๆ\n",
      "254 แอร์ไม่เปิด\n",
      "255 ซื้อของห้าสิบ สลิปยาวเป็นศอก\n",
      "259 โลตัสเล็กตงตลาดหัวหินบางทรายพลังงานช้ามากมาย\n",
      "264 .\n"
     ]
    }
   ],
   "source": [
    "w2 = Widget(result, 'comment')"
   ]
  },
  {
   "cell_type": "code",
   "execution_count": 16,
   "metadata": {
    "scrolled": true
   },
   "outputs": [
    {
     "data": {
      "application/vnd.jupyter.widget-view+json": {
       "model_id": "c2a71bff550949f089833c1e4cbc63ad",
       "version_major": 2,
       "version_minor": 0
      },
      "text/plain": [
       "ToggleButtons(options=(0, 1, 2, 3, 4, 5, 6, 7, 8, 9, 10, 11, 12, 13, 14), value=0)"
      ]
     },
     "metadata": {},
     "output_type": "display_data"
    },
    {
     "name": "stdout",
     "output_type": "stream",
     "text": [
      "2 ['ดี', 'เลิก', 'เครื่อง', 'น้ำ', 'ข้าว', 'อี']\n",
      "8 ['อย่า', 'อย่า', 'กี่', 'ปี', 'บังคับ', 'น้อง', 'เชียร์', 'งี่', 'เง่า']\n",
      "14 ['พนักงาน', 'เงิน', 'ถุง', 'ใส่', 'ผัก', 'ผัก', 'ผัก', 'เลือก', 'เลือก', 'เลือก', 'ยัด']\n",
      "26 ['พนักงาน', 'ลูกค้า', 'คน', 'ถุง', 'ถุง', 'ซื้อ', 'ซื้อ', 'เวลา', 'ดี', 'ใส่', 'ติด']\n",
      "29 ['ปรับปรุง', 'พนง', 'แย่', 'ตะโกน', 'ข้าม', 'หวย', 'พิเศษ', 'พฤติกรรม']\n",
      "30 ['พนง', 'ฐานะ']\n",
      "32 ['เงิน', 'ซื้อ', 'ดี', 'ถาม', 'อ่ะ', 'หาย', 'เล่น', 'ไหม', 'ไหม', 'คู', 'ปอง']\n",
      "35 ['ลูกค้า', 'จ่าย', 'พนง', 'พนง', 'ติด', 'ใบ', 'ใบ', 'ใบ', 'ดู', 'ดู', 'นึง']\n",
      "37 ['สาขา', 'ทำ', 'ทำ', 'ทำ', 'ปรับปรุง', 'เรื่อง', 'ถาม', 'ถาม', 'นึง', 'นึง', 'แม่ง']\n",
      "43 ['สาขา', 'แถม', 'กิน', 'สด', 'แม่ง', 'แผนก', 'เหม็น', 'เสื้อผ้า']\n",
      "45 ['เวลา', 'เวลา', 'บริการ', 'สินค้า', 'มารยาท', 'ถาม', 'เจอ', 'ตอน', 'บ้าน', 'หรอก', 'สีหน้า']\n",
      "56 ['สาขา', 'สาขา', 'ขาย', 'อ่ะ', 'วาง', 'เน่า', 'เน่า', 'เน่า', 'คุณภาพ', 'อายุ', 'งี้']\n",
      "60 ['รู้', 'ผัก', 'เน่า', 'เน่า', 'ทิ้ง', 'ป้ายเหลือง']\n",
      "69 ['อย่า', 'ผัก', 'หมู', 'ทิ้ง', 'บด', 'ช้ำ', 'ป้ายเหลือง']\n",
      "70 ['จ่าย', 'บิล', 'เอ็กเพลส', 'ค่า']\n",
      "75 ['ซื้อ', 'เวลา', 'ผม', 'กะ', 'อย่า', 'วาง', 'มือ', 'เย็น', 'ล้าง', 'สัตว์']\n",
      "79 ['ทำ', 'งาน', 'จ่าย', 'ดู', 'การ์ด', 'ตัง', 'กระดาษ', 'บาท', 'บาท', 'กระดาษ', 'ค่า']\n",
      "83 ['ทำ', 'เหมือน', 'สินค้า', 'เลิก', 'แม่ง', 'ห่วย', 'คุณภาพ', 'สาด', 'ดด']\n",
      "88 ['สาขา', 'ตอน', 'ติด', 'เลิก', 'ผม', 'กลิ่น', 'เหม็น', 'ฝาก', 'เช้า', 'เสื้อผ้า']\n",
      "89 ['เดิน', 'สด', 'กลิ่น', 'เหม็น', 'คลุ้ง']\n",
      "95 ['เดิน', 'รู้', 'อาหาร', 'เหม็น', 'ข้าว', 'หนู', 'หนู', 'โซน', 'แห้ง', 'โซน']\n",
      "98 ['ทำ', 'เวลา', 'เวลา', 'ใส่', 'ใส่', 'รอ', 'เดือน', 'ชื่อ', 'อะ', 'อะ', 'ระบบ']\n",
      "99 ['สาขา', 'เย็น', 'ตู้', 'ตู้', 'ตู้']\n",
      "102 ['เงิน', 'บริการ', 'สินค้า', 'พนง', 'ร้าน', 'สกปรก', 'เย็น', 'สกปรก', 'พื้น', 'ฝุ่น', 'เหนียว']\n",
      "106 ['เรื่อง', 'มารยาท', 'แย่', 'ขี้', 'เล็บ']\n",
      "108 ['กิน', 'เดือน', 'หรอ', 'อายุ', 'เเล้ว', 'เเต่']\n",
      "116 ['หมู', 'หมู', 'หมู', 'ไก่', 'ไก่', 'ไก่', 'ใหน', 'ตั้งใจ', 'ชื้อ', 'ใหน', 'ชื้อ']\n",
      "126 ['สาขา', 'แทบ', 'วาง', 'หรอ', 'เอ็กซ์เพรส', 'เกะกะ']\n",
      "127 ['คน', 'โดน', 'รู้', 'มือ', 'ก้อ', 'บังคับ', 'ไหว้', 'ไหว้', 'ไหว้', 'แม่']\n",
      "128 ['สาขา', 'งาน', 'เวลา', 'สินค้า', 'ตัว', 'ตัว', 'บัตร', 'การ์ด', 'แยก', 'สมาชิก', 'สะสม']\n",
      "132 ['สินค้า', 'สินค้า', 'ลด', 'ลด', 'ชิ้น', 'บิล', 'กี่', 'บาท', 'ชื่อ']\n",
      "135 ['ชอบ', 'เอ็กเพรส', 'แลก', 'แสตมป์', 'ไหม', 'โทร']\n",
      "140 ['สาขา', 'ถาม', 'แลก', 'ปี', 'สะสม', 'ร่ม', 'ร่ม', 'ใหน']\n",
      "144 ['ติด', 'เครื่อง', 'บัตร', 'หาย']\n",
      "146 ['เหมือน', 'บ้าน', 'กิน', 'อ่ะ', 'ข้าว', 'นั่ง', 'เเขก']\n",
      "161 ['พนักงาน', 'ทำ', 'เงิน', 'เวลา', 'เวลา', 'ชอบ', 'ชอบ', 'แคชเชียร์', 'ผัก', 'บูด', 'หาย']\n",
      "163 ['ไอ้']\n",
      "165 ['ขาย', 'ดอก']\n",
      "167 ['ถุง', 'ซื้อ', 'จ่าย', 'ใส่', 'ตอน', 'ผัก', 'ผัก', 'เลือก', 'เลือก', 'เลือก', 'ตังค์']\n",
      "170 ['เอ็กเพรส', 'สะอาด']\n",
      "171 ['รู้จัก']\n",
      "173 ['อ่าน', 'เหนื่อย']\n",
      "179 []\n",
      "181 []\n",
      "189 ['เอ็กเพรส']\n",
      "191 ['ห้องน้ำ', 'ห้าง', 'ห้าง', 'ตูด', 'เหลือง', 'ฉีด', 'สาย', 'สี', 'สี']\n",
      "192 ['ดี', 'บริการ']\n",
      "203 ['กลิ่น']\n",
      "207 ['ลด', 'ลด', 'ไหม', 'ขี้', 'เกียจ']\n",
      "210 ['ซื้อ', 'ดี', 'เจอ', 'ขาย', 'เน่า']\n",
      "212 ['ร้อน']\n",
      "217 ['สด', 'วิ่ง', 'หนู']\n",
      "221 ['โปรโมชั่น', 'กกก']\n",
      "222 ['เซเว่น', 'ต่ำ', 'พลังงาน']\n",
      "223 ['ห้อง']\n",
      "230 ['สาขา', 'ดู', 'สะอาด']\n",
      "232 ['เย็น', 'แอร์ไม่']\n",
      "235 ['ลด', 'สลิป']\n",
      "237 ['บ้าน', 'บิล', 'คู', 'ปอง']\n",
      "248 []\n",
      "254 ['แอร์ไม่']\n",
      "255 ['ซื้อ', 'สิบ', 'ห้า', 'สลิป']\n",
      "259 ['พลังงาน']\n",
      "264 []\n"
     ]
    }
   ],
   "source": [
    "w3 = Widget(result, 'tokenized_comment')"
   ]
  },
  {
   "cell_type": "code",
   "execution_count": 17,
   "metadata": {},
   "outputs": [
    {
     "name": "stdout",
     "output_type": "stream",
     "text": [
      "[[0.]]\n",
      "['พนักงาน', 'สาขา', 'ลูกค้า', 'หน้า', 'ทำ', 'ทำ', 'คน', 'คน', 'เหมือน', 'บริการ', 'แย่']\n",
      "['รู้จัก']\n"
     ]
    }
   ],
   "source": [
    "seed = 85\n",
    "compare = 171\n",
    "\n",
    "a = numpy.array(onehot_corpus.iloc[seed]).reshape(1, -1)\n",
    "b = numpy.array(onehot_corpus.iloc[compare]).reshape(1, -1)\n",
    "print(cosine_similarity(a,b))\n",
    "print(filtered_corpus[seed])\n",
    "print(filtered_corpus[compare])\n",
    "\n",
    "# print(sims[29])"
   ]
  },
  {
   "cell_type": "code",
   "execution_count": null,
   "metadata": {},
   "outputs": [],
   "source": []
  }
 ],
 "metadata": {
  "kernelspec": {
   "display_name": "senior-project",
   "language": "python",
   "name": "senior-project"
  },
  "language_info": {
   "codemirror_mode": {
    "name": "ipython",
    "version": 3
   },
   "file_extension": ".py",
   "mimetype": "text/x-python",
   "name": "python",
   "nbconvert_exporter": "python",
   "pygments_lexer": "ipython3",
   "version": "3.6.7"
  }
 },
 "nbformat": 4,
 "nbformat_minor": 2
}
