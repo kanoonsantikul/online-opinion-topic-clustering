{
 "cells": [
  {
   "cell_type": "code",
   "execution_count": 1,
   "metadata": {},
   "outputs": [],
   "source": [
    "import re\n",
    "import math\n",
    "import sys\n",
    "\n",
    "import numpy\n",
    "import pandas\n",
    "\n",
    "import ipywidgets as widgets\n",
    "from IPython.display import display, clear_output\n",
    "\n",
    "import gensim\n",
    "from gensim.corpora import Dictionary\n",
    "from gensim.models import TfidfModel\n",
    "\n",
    "import pythainlp\n",
    "\n",
    "from sklearn.cluster import KMeans\n",
    "\n",
    "from data_tokenizer import load_corpus"
   ]
  },
  {
   "cell_type": "markdown",
   "metadata": {},
   "source": [
    "### Load Data"
   ]
  },
  {
   "cell_type": "code",
   "execution_count": 21,
   "metadata": {},
   "outputs": [
    {
     "name": "stdout",
     "output_type": "stream",
     "text": [
      "Total documents 353\n",
      "1 clusters\n"
     ]
    }
   ],
   "source": [
    "file_name = 'ผู้บริโภค - TrueCoffee.txt'\n",
    "\n",
    "corpus, labels = load_corpus('../data/facebook/' + file_name)\n",
    "\n",
    "len_corpus = len(corpus)\n",
    "print('Total documents', len_corpus)\n",
    "\n",
    "clusters = list(set(labels))\n",
    "print(len(clusters), 'clusters')\n",
    "\n",
    "f = open('../data/facebook/tokenized/tokenized_' + file_name)\n",
    "tokenized_corpus = eval(f.read())\n",
    "f.close()"
   ]
  },
  {
   "cell_type": "markdown",
   "metadata": {},
   "source": [
    "### Preprocess Corpus"
   ]
  },
  {
   "cell_type": "markdown",
   "metadata": {},
   "source": [
    "#### Remove Words"
   ]
  },
  {
   "cell_type": "code",
   "execution_count": 22,
   "metadata": {},
   "outputs": [
    {
     "name": "stdout",
     "output_type": "stream",
     "text": [
      "origin: 953 words\n",
      "filter frequent words: 374 words\n",
      "filter letter words: 372 words\n",
      "filter stop words: 221 words\n"
     ]
    }
   ],
   "source": [
    "dictionary = Dictionary(tokenized_corpus)\n",
    "print('origin:', len(dictionary), 'words')\n",
    "\n",
    "dictionary.filter_extremes(no_below=2, no_above=0.7, keep_n=len(dictionary))\n",
    "print('filter frequent words:', len(dictionary), 'words')\n",
    "\n",
    "letter_words = [id for id in range(len(dictionary)) if len(dictionary[id]) <= 1] \n",
    "dictionary.filter_tokens(bad_ids=letter_words)\n",
    "print('filter letter words:', len(dictionary), 'words')\n",
    "\n",
    "stopwords = pythainlp.corpus.stopwords.words('thai')\n",
    "stopwords.append('นี้')\n",
    "dictionary.add_documents([stopwords])\n",
    "stopwords = [dictionary.token2id[word] for word in stopwords]\n",
    "dictionary.filter_tokens(bad_ids=stopwords)\n",
    "print('filter stop words:', len(dictionary), 'words')"
   ]
  },
  {
   "cell_type": "code",
   "execution_count": 23,
   "metadata": {
    "scrolled": true
   },
   "outputs": [],
   "source": [
    "# bow_corpus = [dictionary.doc2bow(doc) for doc in tokenized_corpus]\n",
    "idx_corpus = [dictionary.doc2idx(doc) for doc in tokenized_corpus]\n",
    "\n",
    "temp_corpus = []\n",
    "for doc in idx_corpus:\n",
    "    temp_corpus.append([dictionary[id] for id in doc if id >= 0])\n",
    "idx_corpus = temp_corpus"
   ]
  },
  {
   "cell_type": "markdown",
   "metadata": {},
   "source": [
    "#### Dimension Reduction"
   ]
  },
  {
   "cell_type": "code",
   "execution_count": 24,
   "metadata": {},
   "outputs": [],
   "source": [
    "average_doc_size = 0\n",
    "for doc in idx_corpus:\n",
    "    average_doc_size += len(doc)\n",
    "average_doc_size /= len(idx_corpus)\n",
    "average_doc_size = math.ceil(average_doc_size)\n",
    "average_doc_size\n",
    "\n",
    "df = dictionary.dfs\n",
    "filtered_corpus = []\n",
    "for doc in idx_corpus:\n",
    "    new_doc = [(word, df[dictionary.token2id[word]]) for word in doc]\n",
    "    new_doc.sort(reverse=True, key=lambda x: x[1])\n",
    "    new_doc = new_doc[:average_doc_size]\n",
    "    filtered_corpus.append([word for word, df in new_doc])"
   ]
  },
  {
   "cell_type": "markdown",
   "metadata": {},
   "source": [
    "### K-Mean"
   ]
  },
  {
   "cell_type": "code",
   "execution_count": 25,
   "metadata": {},
   "outputs": [],
   "source": [
    "def get_bow(corpus):\n",
    "    new_dict = Dictionary(corpus)\n",
    "\n",
    "    # new_dict.filter_extremes(no_below=2, no_above=1, keep_n=len(new_dict))\n",
    "    # print(len(new_dict))\n",
    "\n",
    "    unique_words = [new_dict[id] for id in range(len(new_dict))]\n",
    "    array = numpy.zeros((len_corpus, len(unique_words)), dtype=float)\n",
    "    \n",
    "    for i, doc in enumerate(corpus):\n",
    "        for word in doc:\n",
    "            array[i, new_dict.token2id[word]] += 1\n",
    "\n",
    "        ## normalization\n",
    "        if len(doc) != 0:\n",
    "            array[i] = numpy.divide(array[i], len(doc))\n",
    "\n",
    "    return pandas.DataFrame(array, columns=unique_words, dtype=float)"
   ]
  },
  {
   "cell_type": "code",
   "execution_count": 26,
   "metadata": {},
   "outputs": [],
   "source": [
    "def predict_cluster(bow_corpus, num_clusters):\n",
    "    kmeans = KMeans(n_clusters=num_clusters).fit(bow_corpus)\n",
    "    predicted_labels = kmeans.labels_\n",
    "\n",
    "    result = pandas.DataFrame()\n",
    "    result['comment'] = corpus\n",
    "    result['tokenized_comment'] = idx_corpus\n",
    "    result['label'] = labels\n",
    "    result['predicted_label'] = predicted_labels\n",
    "    \n",
    "    return result"
   ]
  },
  {
   "cell_type": "code",
   "execution_count": 27,
   "metadata": {},
   "outputs": [
    {
     "data": {
      "text/html": [
       "<div>\n",
       "<style scoped>\n",
       "    .dataframe tbody tr th:only-of-type {\n",
       "        vertical-align: middle;\n",
       "    }\n",
       "\n",
       "    .dataframe tbody tr th {\n",
       "        vertical-align: top;\n",
       "    }\n",
       "\n",
       "    .dataframe thead th {\n",
       "        text-align: right;\n",
       "    }\n",
       "</style>\n",
       "<table border=\"1\" class=\"dataframe\">\n",
       "  <thead>\n",
       "    <tr style=\"text-align: right;\">\n",
       "      <th></th>\n",
       "      <th>กาแฟ</th>\n",
       "      <th>ชง</th>\n",
       "      <th>ร้าน</th>\n",
       "      <th>สวย</th>\n",
       "      <th>ทรูมูฟ</th>\n",
       "      <th>ลูกค้า</th>\n",
       "      <th>สิทธิ์</th>\n",
       "      <th>เต็ม</th>\n",
       "      <th>โปร</th>\n",
       "      <th>รสชาติ</th>\n",
       "      <th>...</th>\n",
       "      <th>แถว</th>\n",
       "      <th>ชัด</th>\n",
       "      <th>บริการ</th>\n",
       "      <th>โปรโมชั่น</th>\n",
       "      <th>ชม</th>\n",
       "      <th>เวลา</th>\n",
       "      <th>ชาไทย</th>\n",
       "      <th>หวัง</th>\n",
       "      <th>เข้มข้น</th>\n",
       "      <th>ดืม</th>\n",
       "    </tr>\n",
       "  </thead>\n",
       "  <tbody>\n",
       "    <tr>\n",
       "      <th>0</th>\n",
       "      <td>0.2</td>\n",
       "      <td>0.2</td>\n",
       "      <td>0.2</td>\n",
       "      <td>0.4</td>\n",
       "      <td>0.0</td>\n",
       "      <td>0.0</td>\n",
       "      <td>0.0</td>\n",
       "      <td>0.0</td>\n",
       "      <td>0.0</td>\n",
       "      <td>0.000000</td>\n",
       "      <td>...</td>\n",
       "      <td>0.0</td>\n",
       "      <td>0.0</td>\n",
       "      <td>0.0</td>\n",
       "      <td>0.0</td>\n",
       "      <td>0.0</td>\n",
       "      <td>0.0</td>\n",
       "      <td>0.0</td>\n",
       "      <td>0.0</td>\n",
       "      <td>0.0</td>\n",
       "      <td>0.0</td>\n",
       "    </tr>\n",
       "    <tr>\n",
       "      <th>1</th>\n",
       "      <td>0.0</td>\n",
       "      <td>0.0</td>\n",
       "      <td>0.0</td>\n",
       "      <td>0.0</td>\n",
       "      <td>0.2</td>\n",
       "      <td>0.2</td>\n",
       "      <td>0.2</td>\n",
       "      <td>0.2</td>\n",
       "      <td>0.2</td>\n",
       "      <td>0.000000</td>\n",
       "      <td>...</td>\n",
       "      <td>0.0</td>\n",
       "      <td>0.0</td>\n",
       "      <td>0.0</td>\n",
       "      <td>0.0</td>\n",
       "      <td>0.0</td>\n",
       "      <td>0.0</td>\n",
       "      <td>0.0</td>\n",
       "      <td>0.0</td>\n",
       "      <td>0.0</td>\n",
       "      <td>0.0</td>\n",
       "    </tr>\n",
       "    <tr>\n",
       "      <th>2</th>\n",
       "      <td>0.0</td>\n",
       "      <td>0.0</td>\n",
       "      <td>0.0</td>\n",
       "      <td>0.0</td>\n",
       "      <td>0.0</td>\n",
       "      <td>0.0</td>\n",
       "      <td>0.0</td>\n",
       "      <td>0.0</td>\n",
       "      <td>0.0</td>\n",
       "      <td>0.333333</td>\n",
       "      <td>...</td>\n",
       "      <td>0.0</td>\n",
       "      <td>0.0</td>\n",
       "      <td>0.0</td>\n",
       "      <td>0.0</td>\n",
       "      <td>0.0</td>\n",
       "      <td>0.0</td>\n",
       "      <td>0.0</td>\n",
       "      <td>0.0</td>\n",
       "      <td>0.0</td>\n",
       "      <td>0.0</td>\n",
       "    </tr>\n",
       "    <tr>\n",
       "      <th>3</th>\n",
       "      <td>0.0</td>\n",
       "      <td>0.0</td>\n",
       "      <td>0.0</td>\n",
       "      <td>0.0</td>\n",
       "      <td>0.0</td>\n",
       "      <td>0.0</td>\n",
       "      <td>0.0</td>\n",
       "      <td>0.0</td>\n",
       "      <td>0.0</td>\n",
       "      <td>0.000000</td>\n",
       "      <td>...</td>\n",
       "      <td>0.0</td>\n",
       "      <td>0.0</td>\n",
       "      <td>0.0</td>\n",
       "      <td>0.0</td>\n",
       "      <td>0.0</td>\n",
       "      <td>0.0</td>\n",
       "      <td>0.0</td>\n",
       "      <td>0.0</td>\n",
       "      <td>0.0</td>\n",
       "      <td>0.0</td>\n",
       "    </tr>\n",
       "    <tr>\n",
       "      <th>4</th>\n",
       "      <td>0.4</td>\n",
       "      <td>0.0</td>\n",
       "      <td>0.2</td>\n",
       "      <td>0.0</td>\n",
       "      <td>0.0</td>\n",
       "      <td>0.0</td>\n",
       "      <td>0.0</td>\n",
       "      <td>0.0</td>\n",
       "      <td>0.0</td>\n",
       "      <td>0.000000</td>\n",
       "      <td>...</td>\n",
       "      <td>0.0</td>\n",
       "      <td>0.0</td>\n",
       "      <td>0.0</td>\n",
       "      <td>0.0</td>\n",
       "      <td>0.0</td>\n",
       "      <td>0.0</td>\n",
       "      <td>0.0</td>\n",
       "      <td>0.0</td>\n",
       "      <td>0.0</td>\n",
       "      <td>0.0</td>\n",
       "    </tr>\n",
       "  </tbody>\n",
       "</table>\n",
       "<p>5 rows × 188 columns</p>\n",
       "</div>"
      ],
      "text/plain": [
       "   กาแฟ   ชง  ร้าน  สวย  ทรูมูฟ  ลูกค้า  สิทธิ์  เต็ม  โปร    รสชาติ ...   \\\n",
       "0   0.2  0.2   0.2  0.4     0.0     0.0     0.0   0.0  0.0  0.000000 ...    \n",
       "1   0.0  0.0   0.0  0.0     0.2     0.2     0.2   0.2  0.2  0.000000 ...    \n",
       "2   0.0  0.0   0.0  0.0     0.0     0.0     0.0   0.0  0.0  0.333333 ...    \n",
       "3   0.0  0.0   0.0  0.0     0.0     0.0     0.0   0.0  0.0  0.000000 ...    \n",
       "4   0.4  0.0   0.2  0.0     0.0     0.0     0.0   0.0  0.0  0.000000 ...    \n",
       "\n",
       "   แถว  ชัด  บริการ  โปรโมชั่น   ชม  เวลา  ชาไทย  หวัง  เข้มข้น  ดืม  \n",
       "0  0.0  0.0     0.0        0.0  0.0   0.0    0.0   0.0      0.0  0.0  \n",
       "1  0.0  0.0     0.0        0.0  0.0   0.0    0.0   0.0      0.0  0.0  \n",
       "2  0.0  0.0     0.0        0.0  0.0   0.0    0.0   0.0      0.0  0.0  \n",
       "3  0.0  0.0     0.0        0.0  0.0   0.0    0.0   0.0      0.0  0.0  \n",
       "4  0.0  0.0     0.0        0.0  0.0   0.0    0.0   0.0      0.0  0.0  \n",
       "\n",
       "[5 rows x 188 columns]"
      ]
     },
     "execution_count": 27,
     "metadata": {},
     "output_type": "execute_result"
    }
   ],
   "source": [
    "num_clusters = 6\n",
    "# bow_corpus = get_bow(idx_corpus)\n",
    "bow_corpus = get_bow(filtered_corpus)\n",
    "result = predict_cluster(bow_corpus, num_clusters)\n",
    "bow_corpus.head()"
   ]
  },
  {
   "cell_type": "markdown",
   "metadata": {},
   "source": [
    "### Result"
   ]
  },
  {
   "cell_type": "code",
   "execution_count": 28,
   "metadata": {},
   "outputs": [
    {
     "name": "stdout",
     "output_type": "stream",
     "text": [
      "(array([0, 1, 2, 3, 4, 5], dtype=int32), array([ 28, 222,  22,  14,  17,  50]))\n",
      "\t\tpercent\n",
      "0  |\t28\t1.0\n"
     ]
    }
   ],
   "source": [
    "label_count = numpy.unique(result['predicted_label'], return_counts=True) \n",
    "print(label_count)\n",
    "\n",
    "for cluster in clusters:\n",
    "    print('\\t' + cluster, end='')\n",
    "print('\\tpercent')\n",
    "\n",
    "for label in range(len(clusters)):\n",
    "    print(str(label) + '  |', end='')\n",
    "    \n",
    "    num_max = 0\n",
    "    for cluster in clusters:\n",
    "        loc = result[(result['label'] == cluster) & (result['predicted_label'] == label)]\n",
    "        if len(loc) > num_max:\n",
    "            num_max = len(loc)\n",
    "        print('\\t' + str(len(loc)), end='')\n",
    "    \n",
    "    print('\\t' + str(num_max / label_count[1][label]))"
   ]
  },
  {
   "cell_type": "code",
   "execution_count": 29,
   "metadata": {
    "scrolled": true
   },
   "outputs": [
    {
     "data": {
      "application/vnd.jupyter.widget-view+json": {
       "model_id": "63ef5cce37d34fb091ffe63e8f9502c4",
       "version_major": 2,
       "version_minor": 0
      },
      "text/plain": [
       "ToggleButtons(options=(1, 2, 3, 4, 5, 6), value=1)"
      ]
     },
     "metadata": {},
     "output_type": "display_data"
    },
    {
     "name": "stdout",
     "output_type": "stream",
     "text": [
      "18 นี้จะเหมือนอเมซอน แต่ละสาขารสชาติไม่เหมือนกัน คนทำกาแฟเปลี่ยนรสชาติก็เปลี่ยน ปลเมิงควรให้ลูกค้าที่ใช้ทรูโดยเฉพาะได้สิทธิ์ได้ส่วนลดพิเศษบ้าง\n",
      "20 ชอคโกแลตปั่นรสชาติเหมือนเอาแต่ละแก้วที่ไม่หมดมาผสมรวมกันให้   ชาเขียวน้ำแข็งไม่มีเลย  เละเป็นโจ๊ก ไม่เย็นแพงเกินคุณภาพจริงๆ\n",
      "28 ซื้อเพราะหาที่นั่งล้วนๆ รสชาติไม่ต้องพูดถึง ปล่อยน้ำแข็งละลายทุกที5555\n",
      "42 เน๊ตบ้านนิ่งมากเหมือนรสชาติดูดแล้วไม่รู้อารมณ์จะไปทางไหน จะขมก็ไม่ใช่ จะหวานก็ไม่มีเติมน้ำเชื่อมก็แล้ว ที่สำคัญกินเสร็จขี้แตกบาย\n",
      "66 สั่งคาปูชิโน่เย็น แต่สิ่งที่ได้ นึกว่านมสดเย็น ไม่มีรสชาติกาแฟเลย ควรไปเรียนนะ\n",
      "84 สาขาเซ็นทรัลพัทยา รสชาติแย่มาก จืด แก้วเล็ก 100฿ ไม่โอเคเลยคะ\n",
      "103 รสชาติ ส้วนตินมาก 5555\n",
      "130 รสชาติไม่อร่อยไอ้ที่มีวิปครีม ท็อปปิ้งต่างๆก็หวานเจี๊ยบ\n",
      "146 รสชาติกาแฟค่ะ ไม่ได้เรื่อง ขายแต่ซิมกะโทสับต่อไปเถอะ\n",
      "147 รสชาติกาแฟค่ะ อ่อนเกินไป จืดด้วย ไม่อร่อยเลย\n",
      "167 รสชาติงั้นๆ\n",
      "168 จริง ไม่เคยใช้สิทธิ์ได้เลย รสชาติงั้นๆ\n",
      "196 รสชาติไม่อร่อยเลยค่ะ\n",
      "219 รสชาติกาแฟแก้วละ99คือน้ำล้างเท้าดีๆนี่เอง\n",
      "226 รสชาติ น้ำแข็งจะอัดเยอะไปไหน\n",
      "230 รสชาติห่วยขั้นเทพ แพงมากไม่สมราคา\n",
      "235 รสชาติไม่ได้เข้ากับบรรยากาศร้านเลย\n",
      "236 ปรับปรุงรสชาติค่ะ\n",
      "260 รสชาติกาแฟคะ\n",
      "264 ความรู้สึก มันแพงเกินรสชาติที่ได้อ่า\n",
      "275 เหนื่อยกาแฟ รสชาติ เหมือนของเหลือ\n",
      "326 รสชาติกาแฟมันปะแล่มๆอ่ะ\n",
      "327 รสชาติเหมือนกินน้ำเปล่าแต่มีกลิ่นชาเขียวหรือกาแฟอะ ถถถถ\n",
      "333 ราคมกับรสชาติเหมาะสมอยู่\n",
      "335 รสชาติ\n",
      "336 แพงไป ไม่สมกับรสชาติ\n",
      "347 รสชาติห่วยทุกน้ำเลย ใช้แต้มทรูแลกเพิ่มตังยังผิดหวัง\n",
      "348 รสชาติ ใช้ได้หลายเมนูอร่อยเลยเหละ\n"
     ]
    }
   ],
   "source": [
    "comment_widget = widgets.ToggleButtons(\n",
    "    options=[num + 1 for num in range(num_clusters + 1)],\n",
    "    disabled=False,\n",
    "    button_style='',\n",
    ")\n",
    "\n",
    "def on_comment_widget_click(change):\n",
    "    clear_output()\n",
    "    display(comment_widget)\n",
    "    print('cluster', change['new'])\n",
    "    for index, value in result[result['predicted_label'] == change['new']]['comment'].iteritems():\n",
    "        print(index, value)\n",
    "\n",
    "comment_widget.observe(on_comment_widget_click, names='index')\n",
    "on_comment_widget_click({'new' : 0})"
   ]
  },
  {
   "cell_type": "code",
   "execution_count": 30,
   "metadata": {
    "scrolled": true
   },
   "outputs": [
    {
     "data": {
      "application/vnd.jupyter.widget-view+json": {
       "model_id": "085665729d7746e68babb7819648127e",
       "version_major": 2,
       "version_minor": 0
      },
      "text/plain": [
       "ToggleButtons(options=(1, 2, 3, 4, 5, 6), value=1)"
      ]
     },
     "metadata": {},
     "output_type": "display_data"
    },
    {
     "name": "stdout",
     "output_type": "stream",
     "text": [
      "18 ['เหมือน', 'สาขา', 'รสชาติ', 'เหมือน', 'คน', 'ทำ', 'กาแฟ', 'รสชาติ', 'ลูกค้า', 'ทรู', 'สิทธิ์', 'ลด', 'พิเศษ']\n",
      "20 ['รสชาติ', 'เหมือน', 'แก้ว', 'ชาเขียว', 'น้ำ', 'แข็ง', 'เย็น', 'แพง', 'คุณภาพ']\n",
      "28 ['ซื้อ', 'หา', 'นั่ง', 'รสชาติ', 'น้ำ', 'แข็ง', 'ละลาย']\n",
      "42 ['บ้าน', 'เหมือน', 'รสชาติ', 'ดูด', 'รู้', 'อารมณ์', 'ขม', 'หวาน', 'น้ำ', 'กิน', 'ขี้']\n",
      "66 ['สั่ง', 'นึก', 'นม', 'รสชาติ', 'กา', 'แฟ', 'เรียน']\n",
      "84 ['รสชาติ', 'แย่', 'จืด', 'แก้ว', 'โอเค']\n",
      "103 ['รสชาติ']\n",
      "130 ['รสชาติ', 'อร่อย', 'ไอ้', 'หวาน']\n",
      "146 ['รสชาติ', 'กา', 'แฟ', 'เรื่อง', 'ขาย']\n",
      "147 ['รสชาติ', 'กา', 'แฟ', 'จืด', 'อร่อย']\n",
      "167 ['รสชาติ', 'งั้น']\n",
      "168 ['สิทธิ์', 'รสชาติ', 'งั้น']\n",
      "196 ['รสชาติ', 'อร่อย']\n",
      "219 ['รสชาติ', 'กา', 'แฟ', 'แก้ว', 'น้ำ', 'ล้าง', 'ดี']\n",
      "226 ['รสชาติ', 'น้ำ', 'แข็ง', 'อัด']\n",
      "230 ['รสชาติ', 'ห่วย', 'แพง', 'สมราคา']\n",
      "235 ['รสชาติ', 'บรรยากาศ', 'ร้าน']\n",
      "236 ['ปรับปรุง', 'รสชาติ']\n",
      "260 ['รสชาติ', 'กา', 'แฟ']\n",
      "264 ['รู้สึก', 'แพง', 'รสชาติ', 'อ่า']\n",
      "275 ['กาแฟ', 'รสชาติ', 'เหมือน']\n",
      "326 ['รสชาติ', 'กา', 'แฟ', 'อ่ะ']\n",
      "327 ['รสชาติ', 'เหมือน', 'กิน', 'น้ำ', 'เปล่า', 'กลิ่น', 'ชา', 'เขียว', 'กาแฟ', 'อะ']\n",
      "333 ['รสชาติ']\n",
      "335 ['รสชาติ']\n",
      "336 ['แพง', 'สม', 'รสชาติ']\n",
      "347 ['รสชาติ', 'ห่วย', 'น้ำ', 'แต้ม', 'หวัง']\n",
      "348 ['รสชาติ', 'เมนู', 'อร่อย']\n"
     ]
    }
   ],
   "source": [
    "token_widget = widgets.ToggleButtons(\n",
    "    options=[num + 1 for num in range(num_clusters)],\n",
    "    disabled=False,\n",
    "    button_style='',\n",
    ")\n",
    "\n",
    "def on_token_widget_click(change):\n",
    "    clear_output()\n",
    "    display(token_widget)\n",
    "    for index, value in result[result['predicted_label'] == change['new']]['tokenized_comment'].iteritems():\n",
    "        print(index, value)\n",
    "\n",
    "token_widget.observe(on_token_widget_click, names='index')\n",
    "on_token_widget_click({'new' : 0})"
   ]
  },
  {
   "cell_type": "code",
   "execution_count": null,
   "metadata": {},
   "outputs": [],
   "source": []
  }
 ],
 "metadata": {
  "kernelspec": {
   "display_name": "senior-project",
   "language": "python",
   "name": "senior-project"
  },
  "language_info": {
   "codemirror_mode": {
    "name": "ipython",
    "version": 3
   },
   "file_extension": ".py",
   "mimetype": "text/x-python",
   "name": "python",
   "nbconvert_exporter": "python",
   "pygments_lexer": "ipython3",
   "version": "3.5.2"
  }
 },
 "nbformat": 4,
 "nbformat_minor": 2
}
